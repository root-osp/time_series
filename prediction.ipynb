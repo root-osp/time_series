{
 "cells": [
  {
   "cell_type": "code",
   "execution_count": 3,
   "metadata": {
    "collapsed": false
   },
   "outputs": [],
   "source": [
    "import numpy as np\n",
    "import matplotlib.pyplot as plt\n",
    "import xlrd as xlrd\n",
    "import datetime as dt\n",
    "import pandas as pd"
   ]
  },
  {
   "cell_type": "code",
   "execution_count": 4,
   "metadata": {
    "collapsed": true
   },
   "outputs": [],
   "source": [
    "book = xlrd.open_workbook(\"data.xlsx\")\n",
    "sh = book.sheet_by_index(0)\n",
    "sh21= book.sheet_by_index(1)\n"
   ]
  },
  {
   "cell_type": "code",
   "execution_count": 28,
   "metadata": {
    "collapsed": false
   },
   "outputs": [],
   "source": [
    "ca1 = sh.cell_value(1,0)\n",
    "i=1\n",
    "j=0\n",
    "a1_time=[]\n",
    "a1_value=[]\n",
    "df = pd.DataFrame(columns=['value','time'])\n",
    "while sh.cell_value(i,0)==ca1:\n",
    "    a1_time.append(dt.datetime(*xlrd.xldate_as_tuple(sh.cell_value(i,1), book.datemode)))\n",
    "    a1_value.append(sh.cell_value(i,2))\n",
    "    i+=1\n",
    "    df = df.append(pd.Series([a1_value[j],a1_time[j]], index=['value','time']), ignore_index=True)\n",
    "    #print(a1_value[j])\n",
    "    j+=1\n",
    "#print(df)"
   ]
  },
  {
   "cell_type": "code",
   "execution_count": 27,
   "metadata": {
    "collapsed": false
   },
   "outputs": [],
   "source": [
    "ca12 = sh.cell_value(i,0)\n",
    "a2_time=[]\n",
    "a2_value=[]\n",
    "while sh.cell_value(i,0)==ca12:\n",
    "    a2_time.append(dt.datetime(*xlrd.xldate_as_tuple(sh.cell_value(i,1), book.datemode)))\n",
    "    a2_value.append(sh.cell_value(i,2))\n",
    "    i+=1"
   ]
  },
  {
   "cell_type": "code",
   "execution_count": 25,
   "metadata": {
    "collapsed": false
   },
   "outputs": [],
   "source": [
    "i+=1\n",
    "ca13 = sh.cell_value(i,0)\n",
    "a3_time=[]\n",
    "a3_value=[]\n",
    "while  i<sh.nrows-1 and sh.cell_value(i,0)==ca13:\n",
    "    a3_time.append(dt.datetime(*xlrd.xldate_as_tuple(sh.cell_value(i,1), book.datemode)).timestamp())\n",
    "    a3_value.append(sh.cell_value(i,2))\n",
    "    i+=1"
   ]
  },
  {
   "cell_type": "code",
   "execution_count": 33,
   "metadata": {
    "collapsed": false
   },
   "outputs": [
    {
     "data": {
      "image/png": "[encoded data removed]",
      "text/plain": [
       "<matplotlib.figure.Figure at 0x7f49da1646a0>"
      ]
     },
     "metadata": {},
     "output_type": "display_data"
    }
   ],
   "source": [
    "plt.plot(df)\n",
    "#print(df)\n",
    "plt.show()"
   ]
  },
  {
   "cell_type": "code",
   "execution_count": null,
   "metadata": {
    "collapsed": true
   },
   "outputs": [],
   "source": []
  }
 ],
 "metadata": {
  "kernelspec": {
   "display_name": "Python 3",
   "language": "python",
   "name": "python3"
  },
  "language_info": {
   "codemirror_mode": {
    "name": "ipython",
    "version": 3
   },
   "file_extension": ".py",
   "mimetype": "text/x-python",
   "name": "python",
   "nbconvert_exporter": "python",
   "pygments_lexer": "ipython3",
   "version": "3.5.2"
  }
 },
 "nbformat": 4,
 "nbformat_minor": 1
}
