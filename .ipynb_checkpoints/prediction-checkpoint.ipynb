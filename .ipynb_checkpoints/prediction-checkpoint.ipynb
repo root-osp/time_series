{
 "cells": [
  {
   "cell_type": "code",
   "execution_count": 2,
   "metadata": {
    "collapsed": false
   },
   "outputs": [],
   "source": [
    "import numpy as np\n",
    "import matplotlib.pyplot as plt\n",
    "import xlrd as xlrd\n",
    "import datetime as dt"
   ]
  },
  {
   "cell_type": "code",
   "execution_count": 3,
   "metadata": {
    "collapsed": true
   },
   "outputs": [],
   "source": [
    "book = xlrd.open_workbook(\"data.xlsx\")\n",
    "sh = book.sheet_by_index(0)\n",
    "sh21= book.sheet_by_index(1)"
   ]
  },
  {
   "cell_type": "code",
   "execution_count": 22,
   "metadata": {
    "collapsed": false
   },
   "outputs": [],
   "source": [
    "ca1 = sh.cell_value(1,0)\n",
    "i=1\n",
    "a1_time=[]\n",
    "a1_value=[]\n",
    "while sh.cell_value(i,0)==ca1:\n",
    "    a1_time.append(dt.datetime(*xlrd.xldate_as_tuple(sh.cell_value(i,1), book.datemode)).timestamp())\n",
    "    a1_value.append(sh.cell_value(i,2))\n",
    "    i+=1"
   ]
  },
  {
   "cell_type": "code",
   "execution_count": 23,
   "metadata": {
    "collapsed": false
   },
   "outputs": [],
   "source": [
    "ca12 = sh.cell_value(i,0)\n",
    "a2_time=[]\n",
    "a2_value=[]\n",
    "while sh.cell_value(i,0)==ca12:\n",
    "    a2_time.append(dt.datetime(*xlrd.xldate_as_tuple(sh.cell_value(i,1), book.datemode)).timestamp())\n",
    "    a2_value.append(sh.cell_value(i,2))\n",
    "    i+=1"
   ]
  },
  {
   "cell_type": "code",
   "execution_count": 25,
   "metadata": {
    "collapsed": false
   },
   "outputs": [],
   "source": [
    "i+=1\n",
    "ca13 = sh.cell_value(i,0)\n",
    "a3_time=[]\n",
    "a3_value=[]\n",
    "while  i<sh.nrows-1 and sh.cell_value(i,0)==ca13:\n",
    "    a3_time.append(dt.datetime(*xlrd.xldate_as_tuple(sh.cell_value(i,1), book.datemode)).timestamp())\n",
    "    a3_value.append(sh.cell_value(i,2))\n",
    "    i+=1"
   ]
  },
  {
   "cell_type": "code",
   "execution_count": null,
   "metadata": {
    "collapsed": false
   },
   "outputs": [],
   "source": []
  },
  {
   "cell_type": "code",
   "execution_count": null,
   "metadata": {
    "collapsed": true
   },
   "outputs": [],
   "source": []
  }
 ],
 "metadata": {
  "kernelspec": {
   "display_name": "Python 3",
   "language": "python",
   "name": "python3"
  },
  "language_info": {
   "codemirror_mode": {
    "name": "ipython",
    "version": 3
   },
   "file_extension": ".py",
   "mimetype": "text/x-python",
   "name": "python",
   "nbconvert_exporter": "python",
   "pygments_lexer": "ipython3",
   "version": "3.5.2"
  }
 },
 "nbformat": 4,
 "nbformat_minor": 1
}
